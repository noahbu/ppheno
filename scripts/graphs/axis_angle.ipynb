{
 "cells": [
  {
   "cell_type": "code",
   "execution_count": 1,
   "metadata": {},
   "outputs": [],
   "source": [
    "import numpy as np\n",
    "import open3d as o3d\n",
    "\n"
   ]
  },
  {
   "cell_type": "code",
   "execution_count": 2,
   "metadata": {},
   "outputs": [
    {
     "name": "stdout",
     "output_type": "stream",
     "text": [
      "Arbitrary Axis (normalized): [0.72739297 0.36369648 0.58191437]\n",
      "Magnitude: 1.0\n",
      "Arbitrary Axis-Angle Representation: [1.1425862  0.5712931  0.91406896]\n"
     ]
    }
   ],
   "source": [
    "\n",
    "# Step 1: Define an arbitrary rotation axis (e.g., rotate around the x-axis)\n",
    "arbitrary_axis = np.array([1.0, 0.5, 0.8])  # x-axis\n",
    "\n",
    "# Step 2: Define an arbitrary rotation angle (e.g., 90 degrees)\n",
    "angle_degrees = 90\n",
    "angle_radians = np.radians(angle_degrees)  # Convert degrees to radians\n",
    "\n",
    "# Step 3: Normalize the arbitrary axis\n",
    "arbitrary_axis_normalized = arbitrary_axis / np.linalg.norm(arbitrary_axis)\n",
    "print(f\"Arbitrary Axis (normalized): {arbitrary_axis_normalized}\")\n",
    "magnitude = np.linalg.norm(arbitrary_axis_normalized)\n",
    "print(f\"Magnitude: {magnitude}\")\n",
    "\n",
    "# Step 4: Compute the axis-angle representation (axis * angle)\n",
    "axis_angle = arbitrary_axis_normalized * angle_radians\n",
    "print(f\"Arbitrary Axis-Angle Representation: {axis_angle}\")\n",
    "\n",
    "\n",
    "\n",
    "# Step 6: Apply the rotation to a point cloud (assuming 'pcd' is already defined)"
   ]
  },
  {
   "cell_type": "code",
   "execution_count": 3,
   "metadata": {},
   "outputs": [
    {
     "name": "stdout",
     "output_type": "stream",
     "text": [
      "Rotation Matrix (arbitrary):\n",
      "[[ 0.52910053 -0.31736411  0.78697691]\n",
      " [ 0.84646464  0.13227513 -0.51575276]\n",
      " [ 0.05958394  0.93903318  0.33862434]]\n"
     ]
    }
   ],
   "source": [
    "# Step 5: Compute the rotation matrix from the axis-angle representation\n",
    "rotation_matrix = o3d.geometry.get_rotation_matrix_from_axis_angle(axis_angle)\n",
    "print(f\"Rotation Matrix (arbitrary):\\n{rotation_matrix}\")"
   ]
  },
  {
   "cell_type": "code",
   "execution_count": null,
   "metadata": {},
   "outputs": [],
   "source": []
  }
 ],
 "metadata": {
  "kernelspec": {
   "display_name": "open3d",
   "language": "python",
   "name": "python3"
  },
  "language_info": {
   "codemirror_mode": {
    "name": "ipython",
    "version": 3
   },
   "file_extension": ".py",
   "mimetype": "text/x-python",
   "name": "python",
   "nbconvert_exporter": "python",
   "pygments_lexer": "ipython3",
   "version": "3.11.9"
  }
 },
 "nbformat": 4,
 "nbformat_minor": 2
}
