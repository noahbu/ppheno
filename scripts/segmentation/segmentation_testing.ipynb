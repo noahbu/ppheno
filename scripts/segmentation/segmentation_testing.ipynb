{
 "cells": [
  {
   "cell_type": "code",
   "execution_count": 1,
   "metadata": {},
   "outputs": [],
   "source": [
    "import open3d as o3d\n",
    "import numpy as np\n",
    "import matplotlib.pyplot as plt\n",
    "from DoN_radii2 import compute_DoN_feature_vector\n",
    "import sys\n",
    "import os\n",
    "import colorsys\n",
    "from sklearn.mixture import GaussianMixture\n",
    "from sklearn.preprocessing import StandardScaler\n",
    "from sklearn.neighbors import NearestNeighbors\n",
    "import numpy as np\n"
   ]
  },
  {
   "cell_type": "code",
   "execution_count": 88,
   "metadata": {},
   "outputs": [],
   "source": [
    "# Load two point clouds with absolute paths\n",
    "# pointcloud1 = o3d.io.read_point_cloud(\"/Users/noahbucher/Documents_local/Plant_reconstruction/ppheno/data/melonCycle/2024-08-01/A-4_2024-08-01/m_pc_A-4_2024-08-01_dense_03.ply\")\n",
    "# pointcloud2 = o3d.io.read_point_cloud(\"/Users/noahbucher/Documents_local/Plant_reconstruction/ppheno/data/melonCycle/2024-08-01/A-4_2024-08-01/pc_A-4_2024-08-01_dense_02_plant_cluster.ply\")\n",
    "\n",
    "# pointcloud2 = o3d.io.read_point_cloud(\"/Users/noahbucher/Documents_local/Plant_reconstruction/ppheno/data/melonCycle/2024-08-01/A-4_2024-08-01/pc_A-4_2024-08-01_dense_02_plant_only_cluster.ply\")\n",
    "# pointcloud2 = o3d.io.read_point_cloud(\"/Users/noahbucher/Documents_local/Plant_reconstruction/ppheno/data/melonCycle/2024-08-01/A-1_2024-08-01/m_pc_A-1_2024-08-01_dense_03.ply\")\n",
    "\n",
    "pointcloud2 = o3d.io.read_point_cloud(\"/Users/noahbucher/Documents_local/Plant_reconstruction/ppheno/data/melonCycle/2024-08-01/A-5_2024-08-01/m_pc_A-5_2024-08-01_dense_03.ply\")\n",
    "pointcloud1 = o3d.io.read_point_cloud(\"/Users/noahbucher/Documents_local/Plant_reconstruction/ppheno/data/melonCycle/2024-08-01/A-5_2024-08-01/pc_A-5_2024-08-01_dense_02_plant_cluster.ply\")"
   ]
  },
  {
   "cell_type": "code",
   "execution_count": 89,
   "metadata": {},
   "outputs": [],
   "source": [
    "# downsample the manual pointcloud\n",
    "\n",
    "pointcloud1 = pointcloud1.voxel_down_sample(voxel_size=0.03)\n",
    "cl, ind = pointcloud1.remove_statistical_outlier(nb_neighbors=20, std_ratio=2.0)\n",
    "pcd = pointcloud1.select_by_index(ind)"
   ]
  },
  {
   "cell_type": "code",
   "execution_count": 90,
   "metadata": {},
   "outputs": [],
   "source": [
    "def estimate_voxel_size_sklearn(pcd, sample_ratio=0.01, num_neighbors=20):\n",
    "    \"\"\"\n",
    "    Estimate voxel size based on nearest neighbor distances using scikit-learn's NearestNeighbors.\n",
    "    \n",
    "    Args:\n",
    "        pcd (o3d.geometry.PointCloud): The input point cloud.\n",
    "        sample_ratio (float): Fraction of points to sample from the point cloud.\n",
    "        num_neighbors (int): Number of neighbors for distance estimation.\n",
    "    \n",
    "    Returns:\n",
    "        float: Estimated voxel size.\n",
    "    \"\"\"\n",
    "    points = np.asarray(pcd.points)\n",
    "    n_points = len(points)\n",
    "\n",
    "    # Sample points if the point cloud is too large\n",
    "    sample_size = max(1, int(n_points * sample_ratio))\n",
    "    sample_points = points[np.random.choice(n_points, sample_size, replace=False)]\n",
    "\n",
    "    # Use scikit-learn's NearestNeighbors for efficient KDTree-like search\n",
    "    nbrs = NearestNeighbors(n_neighbors=num_neighbors, algorithm='auto').fit(sample_points)\n",
    "    distances, _ = nbrs.kneighbors(sample_points)\n",
    "\n",
    "    # Compute average distance to neighbors (ignore distance to self)\n",
    "    avg_distances = np.mean(distances[:, 1:], axis=1)\n",
    "\n",
    "    return np.mean(avg_distances)"
   ]
  },
  {
   "cell_type": "code",
   "execution_count": 91,
   "metadata": {},
   "outputs": [
    {
     "name": "stdout",
     "output_type": "stream",
     "text": [
      "Estimated Voxel Size (scikit-learn): 0.05243471638194016\n"
     ]
    }
   ],
   "source": [
    "# Estimate voxel size using scikit-learn's NearestNeighbors\n",
    "estimated_voxel_size_sklearn = estimate_voxel_size_sklearn(pointcloud1, sample_ratio=0.9)\n",
    "print(f\"Estimated Voxel Size (scikit-learn): {estimated_voxel_size_sklearn}\")"
   ]
  },
  {
   "cell_type": "code",
   "execution_count": 92,
   "metadata": {},
   "outputs": [
    {
     "name": "stdout",
     "output_type": "stream",
     "text": [
      "Estimated Voxel Size (scikit-learn): 0.06355559792481405\n"
     ]
    }
   ],
   "source": [
    "# Estimate voxel size using scikit-learn's NearestNeighbors\n",
    "estimated_voxel_size_sklearn = estimate_voxel_size_sklearn(pointcloud2, sample_ratio=0.05)\n",
    "print(f\"Estimated Voxel Size (scikit-learn): {estimated_voxel_size_sklearn}\")"
   ]
  },
  {
   "cell_type": "code",
   "execution_count": 93,
   "metadata": {},
   "outputs": [],
   "source": [
    "voxel_size = 0.01  # Adjust this based on the resolution you need\n",
    "\n",
    "voxel_size_1 = estimate_voxel_size_sklearn(pointcloud1, sample_ratio=0.5)\n",
    "voxel_size_2 = estimate_voxel_size_sklearn(pointcloud2, sample_ratio=0.05)\n",
    "\n",
    "voxel_grid1 = o3d.geometry.VoxelGrid.create_from_point_cloud(pointcloud1, voxel_size=voxel_size_2)\n",
    "voxel_grid2 = o3d.geometry.VoxelGrid.create_from_point_cloud(pointcloud2, voxel_size=voxel_size_2)"
   ]
  },
  {
   "cell_type": "code",
   "execution_count": 94,
   "metadata": {},
   "outputs": [],
   "source": [
    "def compute_voxel_iou(voxel_grid1, voxel_grid2):\n",
    "    # Get the voxel coordinates for both grids\n",
    "    voxels1 = set([tuple(voxel.grid_index) for voxel in voxel_grid1.get_voxels()])\n",
    "    voxels2 = set([tuple(voxel.grid_index) for voxel in voxel_grid2.get_voxels()])\n",
    "\n",
    "    # Compute intersection and union\n",
    "    intersection = len(voxels1.intersection(voxels2))\n",
    "    union = len(voxels1.union(voxels2))\n",
    "\n",
    "    if union == 0:\n",
    "        return 0.0\n",
    "\n",
    "    return intersection / union"
   ]
  },
  {
   "cell_type": "code",
   "execution_count": 95,
   "metadata": {},
   "outputs": [
    {
     "name": "stdout",
     "output_type": "stream",
     "text": [
      "Voxel-based IoU: 0.6820039083318529\n"
     ]
    }
   ],
   "source": [
    "# Compute volumetric IoU\n",
    "voxel_iou = compute_voxel_iou(voxel_grid1, voxel_grid2)\n",
    "print(f\"Voxel-based IoU: {voxel_iou}\")"
   ]
  },
  {
   "cell_type": "code",
   "execution_count": 4,
   "metadata": {},
   "outputs": [],
   "source": [
    "def feature_vector_DoN_Hue_N_coo(pcd, radius_small, radius_large):\n",
    "    points = np.asarray(pcd.points)\n",
    "    \n",
    "    if not pcd.has_normals():\n",
    "        pcd.estimate_normals(search_param=o3d.geometry.KDTreeSearchParamKNN(knn=30))\n",
    "    normals = np.asarray(pcd.normals)\n",
    "\n",
    "    if pcd.has_colors():\n",
    "        colors_rgb = np.asarray(pcd.colors)\n",
    "        hues = np.array([colorsys.rgb_to_hsv(r, g, b)[0] for r, g, b in colors_rgb])\n",
    "    else:\n",
    "        hues = np.zeros(len(points))\n",
    "\n",
    "    DoN_magnitudes = compute_DoN_feature_vector(pcd, radius_small, radius_large)\n",
    "    \n",
    "    feature_vector = np.hstack((points, normals, hues[:, np.newaxis], DoN_magnitudes[:, np.newaxis]))\n",
    "    return feature_vector\n"
   ]
  },
  {
   "cell_type": "code",
   "execution_count": null,
   "metadata": {},
   "outputs": [],
   "source": []
  },
  {
   "cell_type": "code",
   "execution_count": 5,
   "metadata": {},
   "outputs": [],
   "source": [
    "def compute_iou(predicted_labels, ground_truth_labels):\n",
    "    intersection = np.sum(np.logical_and(predicted_labels, ground_truth_labels))\n",
    "    union = np.sum(np.logical_or(predicted_labels, ground_truth_labels))\n",
    "    \n",
    "    if union == 0:\n",
    "        return 0.0\n",
    "    \n",
    "    return intersection / union\n"
   ]
  },
  {
   "cell_type": "code",
   "execution_count": 6,
   "metadata": {},
   "outputs": [
    {
     "name": "stdout",
     "output_type": "stream",
     "text": [
      "\u001b[1;33m[Open3D WARNING] Read PLY failed: unable to open file: /path_to_pointcloud1.ply\u001b[0;m\n",
      "\u001b[1;33m[Open3D WARNING] Read PLY failed: unable to open file: /path_to_pointcloud2.ply\u001b[0;m\n",
      "Voxel-based IoU: 0.0\n"
     ]
    },
    {
     "name": "stderr",
     "output_type": "stream",
     "text": [
      "RPly: Unable to open file\n",
      "RPly: Unable to open file\n"
     ]
    }
   ],
   "source": [
    "import open3d as o3d\n",
    "import numpy as np\n",
    "\n",
    "def voxelize_pointcloud(pcd, voxel_size):\n",
    "    voxel_grid = o3d.geometry.VoxelGrid.create_from_point_cloud(pcd, voxel_size=voxel_size)\n",
    "    return voxel_grid\n",
    "\n",
    "def compute_voxel_iou(voxel_grid1, voxel_grid2):\n",
    "    # Get the voxel coordinates for both grids\n",
    "    voxels1 = set([tuple(voxel.grid_index) for voxel in voxel_grid1.get_voxels()])\n",
    "    voxels2 = set([tuple(voxel.grid_index) for voxel in voxel_grid2.get_voxels()])\n",
    "\n",
    "    # Compute intersection and union\n",
    "    intersection = len(voxels1.intersection(voxels2))\n",
    "    union = len(voxels1.union(voxels2))\n",
    "\n",
    "    if union == 0:\n",
    "        return 0.0\n",
    "\n",
    "    return intersection / union\n",
    "\n",
    "# Load two point clouds\n",
    "pcd1 = o3d.io.read_point_cloud(\"/path_to_pointcloud1.ply\")\n",
    "pcd2 = o3d.io.read_point_cloud(\"/path_to_pointcloud2.ply\")\n",
    "\n",
    "# Voxelize the point clouds\n",
    "voxel_size = 0.01  # Adjust this based on the resolution you need\n",
    "voxel_grid1 = voxelize_pointcloud(pcd1, voxel_size)\n",
    "voxel_grid2 = voxelize_pointcloud(pcd2, voxel_size)\n",
    "\n",
    "# Compute volumetric IoU\n",
    "voxel_iou = compute_voxel_iou(voxel_grid1, voxel_grid2)\n",
    "print(f\"Voxel-based IoU: {voxel_iou}\")\n"
   ]
  },
  {
   "cell_type": "code",
   "execution_count": 10,
   "metadata": {},
   "outputs": [
    {
     "ename": "",
     "evalue": "",
     "output_type": "error",
     "traceback": [
      "\u001b[1;31mDer Kernel ist beim Ausführen von Code in der aktuellen Zelle oder einer vorherigen Zelle abgestürzt. \n",
      "\u001b[1;31mBitte überprüfen Sie den Code in der/den Zelle(n), um eine mögliche Fehlerursache zu identifizieren. \n",
      "\u001b[1;31mKlicken Sie <a href='https://aka.ms/vscodeJupyterKernelCrash'>hier</a>, um weitere Informationen zu erhalten. \n",
      "\u001b[1;31mWeitere Informationen finden Sie unter Jupyter <a href='command:jupyter.viewOutput'>Protokoll</a>."
     ]
    }
   ],
   "source": [
    "\n"
   ]
  },
  {
   "cell_type": "code",
   "execution_count": 4,
   "metadata": {},
   "outputs": [],
   "source": [
    "def objective_function(pcd, ground_truth_pcd, radius_small, radius_large, weights, n_clusters=5):\n",
    "    weighted_features = extract_and_weight_features(pcd, radius_small, radius_large, weights)\n",
    "    \n",
    "    gmm = GaussianMixture(n_components=n_clusters, random_state=42).fit(weighted_features)\n",
    "    labels = gmm.predict(weighted_features)\n",
    "    \n",
    "    plant_cluster = identify_plant_cluster(pcd, labels)\n",
    "    \n",
    "    predicted_plant_mask = labels == plant_cluster\n",
    "    ground_truth_points = np.asarray(ground_truth_pcd.points)\n",
    "    full_pcd_points = np.asarray(pcd.points)\n",
    "    \n",
    "    ground_truth_mask = np.isin(full_pcd_points, ground_truth_points)\n",
    "    \n",
    "    iou_score = compute_iou(predicted_plant_mask, ground_truth_mask)\n",
    "    \n",
    "    return iou_score\n"
   ]
  },
  {
   "cell_type": "code",
   "execution_count": 5,
   "metadata": {},
   "outputs": [],
   "source": [
    "def identify_plant_cluster(pcd, labels):\n",
    "    colors = np.asarray(pcd.colors)\n",
    "    hue_values = np.array([colorsys.rgb_to_hsv(r, g, b)[0] * 360 for r, g, b in colors])\n",
    "    \n",
    "    green_hue_min, green_hue_max = 80, 100\n",
    "    \n",
    "    green_counts = []\n",
    "    n_clusters = len(np.unique(labels))  # Count the number of unique clusters\n",
    "    for i in range(n_clusters):\n",
    "        cluster_indices = (labels == i)\n",
    "        green_count = np.sum((cluster_indices) & (green_hue_min <= hue_values) & (hue_values <= green_hue_max))\n",
    "        green_counts.append(green_count)\n",
    "    \n",
    "    plant_cluster = np.argmax(green_counts)\n",
    "    return plant_cluster\n"
   ]
  },
  {
   "cell_type": "code",
   "execution_count": 7,
   "metadata": {},
   "outputs": [
    {
     "ename": "NameError",
     "evalue": "name 'extract_and_weight_features' is not defined",
     "output_type": "error",
     "traceback": [
      "\u001b[0;31m---------------------------------------------------------------------------\u001b[0m",
      "\u001b[0;31mNameError\u001b[0m                                 Traceback (most recent call last)",
      "Cell \u001b[0;32mIn[7], line 21\u001b[0m\n\u001b[1;32m     18\u001b[0m ground_truth_pcd \u001b[38;5;241m=\u001b[39m o3d\u001b[38;5;241m.\u001b[39mio\u001b[38;5;241m.\u001b[39mread_point_cloud(ground_truth_pcd_path)\n\u001b[1;32m     20\u001b[0m \u001b[38;5;66;03m# Compute IoU score using the objective function\u001b[39;00m\n\u001b[0;32m---> 21\u001b[0m iou_score \u001b[38;5;241m=\u001b[39m \u001b[43mobjective_function\u001b[49m\u001b[43m(\u001b[49m\u001b[43mpcd\u001b[49m\u001b[43m,\u001b[49m\u001b[43m \u001b[49m\u001b[43mground_truth_pcd\u001b[49m\u001b[43m,\u001b[49m\u001b[43m \u001b[49m\u001b[43mradius_small\u001b[49m\u001b[43m,\u001b[49m\u001b[43m \u001b[49m\u001b[43mradius_large\u001b[49m\u001b[43m,\u001b[49m\u001b[43m \u001b[49m\u001b[43mweights\u001b[49m\u001b[43m,\u001b[49m\u001b[43m \u001b[49m\u001b[43mn_clusters\u001b[49m\u001b[43m)\u001b[49m\n\u001b[1;32m     22\u001b[0m \u001b[38;5;28mprint\u001b[39m(\u001b[38;5;124mf\u001b[39m\u001b[38;5;124m\"\u001b[39m\u001b[38;5;124mComputed IoU score: \u001b[39m\u001b[38;5;132;01m{\u001b[39;00miou_score\u001b[38;5;132;01m}\u001b[39;00m\u001b[38;5;124m\"\u001b[39m)\n",
      "Cell \u001b[0;32mIn[4], line 2\u001b[0m, in \u001b[0;36mobjective_function\u001b[0;34m(pcd, ground_truth_pcd, radius_small, radius_large, weights, n_clusters)\u001b[0m\n\u001b[1;32m      1\u001b[0m \u001b[38;5;28;01mdef\u001b[39;00m \u001b[38;5;21mobjective_function\u001b[39m(pcd, ground_truth_pcd, radius_small, radius_large, weights, n_clusters\u001b[38;5;241m=\u001b[39m\u001b[38;5;241m5\u001b[39m):\n\u001b[0;32m----> 2\u001b[0m     weighted_features \u001b[38;5;241m=\u001b[39m \u001b[43mextract_and_weight_features\u001b[49m(pcd, radius_small, radius_large, weights)\n\u001b[1;32m      4\u001b[0m     gmm \u001b[38;5;241m=\u001b[39m GaussianMixture(n_components\u001b[38;5;241m=\u001b[39mn_clusters, random_state\u001b[38;5;241m=\u001b[39m\u001b[38;5;241m42\u001b[39m)\u001b[38;5;241m.\u001b[39mfit(weighted_features)\n\u001b[1;32m      5\u001b[0m     labels \u001b[38;5;241m=\u001b[39m gmm\u001b[38;5;241m.\u001b[39mpredict(weighted_features)\n",
      "\u001b[0;31mNameError\u001b[0m: name 'extract_and_weight_features' is not defined"
     ]
    }
   ],
   "source": [
    "# Load the point cloud\n",
    "relative_pcd_path = \"/Users/noahbucher/Documents_local/Plant_reconstruction/ppheno/data/melonCycle/2024-08-01/A-1_2024-08-01/pc_A-1_2024-08-01_dense_02.ply\"\n",
    "pcd = o3d.io.read_point_cloud(relative_pcd_path)\n",
    "\n",
    "# Define parameters\n",
    "radius_small = 0.4\n",
    "radius_large = 2.0\n",
    "n_clusters = 5\n",
    "weights = {\n",
    "    'spatial': 0.3,\n",
    "    'normals': 0.0,\n",
    "    'hue': 1.0,\n",
    "    'don': 0.0\n",
    "}\n",
    "\n",
    "# Load the ground truth point cloud\n",
    "ground_truth_pcd_path = \"/Users/noahbucher/Documents_local/Plant_reconstruction/ppheno/data/melonCycle/2024-08-01/A-1_2024-08-01/m_pc_A-1_2024-08-01_dense_03.ply\"  # Adjust the path\n",
    "ground_truth_pcd = o3d.io.read_point_cloud(ground_truth_pcd_path)\n",
    "\n",
    "# Compute IoU score using the objective function\n",
    "iou_score = objective_function(pcd, ground_truth_pcd, radius_small, radius_large, weights, n_clusters)\n",
    "print(f\"Computed IoU score: {iou_score}\")\n"
   ]
  },
  {
   "cell_type": "code",
   "execution_count": null,
   "metadata": {},
   "outputs": [],
   "source": []
  }
 ],
 "metadata": {
  "kernelspec": {
   "display_name": "open3d",
   "language": "python",
   "name": "python3"
  },
  "language_info": {
   "codemirror_mode": {
    "name": "ipython",
    "version": 3
   },
   "file_extension": ".py",
   "mimetype": "text/x-python",
   "name": "python",
   "nbconvert_exporter": "python",
   "pygments_lexer": "ipython3",
   "version": "3.11.9"
  }
 },
 "nbformat": 4,
 "nbformat_minor": 2
}
